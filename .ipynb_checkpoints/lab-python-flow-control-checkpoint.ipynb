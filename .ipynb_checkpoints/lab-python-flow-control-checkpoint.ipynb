{
 "cells": [
  {
   "cell_type": "markdown",
   "id": "d3bfc191-8885-42ee-b0a0-bbab867c6f9f",
   "metadata": {
    "tags": []
   },
   "source": [
    "# Lab | Flow Control"
   ]
  },
  {
   "cell_type": "code",
   "execution_count": 2,
   "id": "5261ebd0-06a7-4d06-9977-9082b75cf4b1",
   "metadata": {
    "tags": []
   },
   "outputs": [
    {
     "name": "stdin",
     "output_type": "stream",
     "text": [
      "Enter the value for t-shirt:  10\n",
      "Enter the value for mug:  10\n",
      "Enter the value for hat:  10\n",
      "Enter the value for book:  10\n",
      "Enter the value for keychain:  10\n"
     ]
    },
    {
     "name": "stdout",
     "output_type": "stream",
     "text": [
      "inventory: {'t-shirt': '10', 'mug': '10', 'hat': '10', 'book': '10', 'keychain': '10'}\n"
     ]
    }
   ],
   "source": [
    "# Define items list\n",
    "products = [\"t-shirt\", \"mug\", \"hat\", \"book\", \"keychain\"]\n",
    "\n",
    "# Create an empty dictionary\n",
    "inventory = {}\n",
    "\n",
    "# Ask user input to specify quantity of each product available in the inventory\n",
    "# Use a loop to add values\n",
    "for i in products:\n",
    "    quantity = input(f\"Enter the value for {i}: \")\n",
    "    inventory[i] = quantity\n",
    "\n",
    "# Print the resulting dictionary\n",
    "print(\"inventory:\", inventory)\n",
    "# create an empty set\n",
    "customer_orders = set ()"
   ]
  },
  {
   "cell_type": "code",
   "execution_count": 4,
   "id": "d1b5f054-916d-476e-a02b-330d4e0b9a81",
   "metadata": {
    "tags": []
   },
   "outputs": [
    {
     "name": "stdin",
     "output_type": "stream",
     "text": [
      "Do you want to add products? (yes/no):  yes\n",
      "Enter the name of the product from the list defined:  mug\n",
      "Do you want to add another product? (yes/no):  yes\n",
      "Enter the name of the product from the list defined:  hat\n",
      "Do you want to add another product? (yes/no):  no\n"
     ]
    },
    {
     "name": "stdout",
     "output_type": "stream",
     "text": [
      "Products in customer order: {'mug', 'hat'}\n"
     ]
    }
   ],
   "source": [
    "#Ask the user to input the name of products that a customer wants to order \n",
    "# Prompt the user to enter the name of products a customer wants to order\n",
    "add_another_product = input(\"Do you want to add products? (yes/no): \").strip().lower()\n",
    "\n",
    "while add_another_product == \"yes\":\n",
    "    # Ask the user to enter a product name\n",
    "    product_name = input(\"Enter the name of the product from the list defined: \").strip().lower()\n",
    "\n",
    "    # Check if the product name is valid (in the list of available products)\n",
    "    if product_name in products:\n",
    "        # Add the product to the customer_orders set\n",
    "        customer_orders.add(product_name)\n",
    "    else:\n",
    "        # Inform the user if the product is not valid\n",
    "        print(f\"Product '{product_name}' is not in the list. Please enter a valid product name from the list.\")\n",
    "\n",
    "    # Ask the user if they want to add another product\n",
    "    add_another_product = input(\"Do you want to add another product? (yes/no): \").strip().lower()\n",
    "\n",
    "# Print the products in the customer_orders set\n",
    "print(\"Products in customer order:\", customer_orders)"
   ]
  },
  {
   "cell_type": "markdown",
   "id": "3851fcd1-cf98-4653-9c89-e003b7ec9400",
   "metadata": {},
   "source": [
    "## Exercise: Managing Customer Orders Optimized\n",
    "\n",
    "In the last lab, you were starting an online store that sells various products. To ensure smooth operations, you developed a program that manages customer orders and inventory.\n",
    "\n",
    "You did so without using flow control. Let's go a step further and improve this code.\n",
    "\n",
    "Follow the steps below to complete the exercise:\n",
    "\n",
    "1. Look at your code from the lab data structures, and improve repeated code with loops.\n",
    "\n",
    "2. Instead of asking the user to input the name of three products that a customer wants to order, do the following:\n",
    "    \n",
    "    a. Prompt the user to enter the name of a product that a customer wants to order.\n",
    "    \n",
    "    b. Add the product name to the \"customer_orders\" set.\n",
    "    \n",
    "    c. Ask the user if they want to add another product (yes/no).\n",
    "    \n",
    "    d. Continue the loop until the user does not want to add another product.\n",
    "\n",
    "3. Instead of updating the inventory by subtracting 1 from the quantity of each product, only do it for  the products that were ordered (those in \"customer_orders\")."
   ]
  }
 ],
 "metadata": {
  "kernelspec": {
   "display_name": "Python 3 (ipykernel)",
   "language": "python",
   "name": "python3"
  },
  "language_info": {
   "codemirror_mode": {
    "name": "ipython",
    "version": 3
   },
   "file_extension": ".py",
   "mimetype": "text/x-python",
   "name": "python",
   "nbconvert_exporter": "python",
   "pygments_lexer": "ipython3",
   "version": "3.11.5"
  }
 },
 "nbformat": 4,
 "nbformat_minor": 5
}
